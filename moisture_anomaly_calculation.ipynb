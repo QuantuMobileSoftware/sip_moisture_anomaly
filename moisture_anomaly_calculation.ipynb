{
 "cells": [
  {
   "cell_type": "code",
   "execution_count": null,
   "metadata": {},
   "outputs": [],
   "source": [
    "import os\n",
    "import json\n",
    "import time\n",
    "import numpy as np\n",
    "import geopandas as gpd\n",
    "import rasterio.mask\n",
    "import shapely.wkt\n",
    "from pathlib import Path\n",
    "import rasterio.mask as riomask\n",
    "\n",
    "from code.download.utils import get_tiles, check_nodata\n",
    "from code.download.load_tiles import load_images\n",
    "from code.index_research import calculate_ndmi, calculate_ndvi\n",
    "from code.utils import stitch_tiles\n",
    "from code.utils import dump_no_data_geosjon\n",
    "\n",
    "import warnings\n",
    "warnings.filterwarnings('ignore')\n",
    "import logging\n",
    "logger = logging.getLogger()\n",
    "logger.setLevel(logging.INFO)"
   ]
  },
  {
   "cell_type": "code",
   "execution_count": null,
   "metadata": {},
   "outputs": [],
   "source": [
    "REQUEST_ID=os.getenv('REQUEST_ID')\n",
    "START_DATE=os.getenv('START_DATE')\n",
    "END_DATE=os.getenv('END_DATE')\n",
    "AOI=os.getenv('AOI')\n",
    "SENTINEL2_GOOGLE_API_KEY=os.getenv('SENTINEL2_GOOGLE_API_KEY')\n",
    "SATELLITE_CACHE_FOLDER=os.getenv('SENTINEL2_CACHE')\n",
    "OUTPUT_FOLDER=os.getenv('OUTPUT_FOLDER')"
   ]
  },
  {
   "cell_type": "code",
   "execution_count": null,
   "metadata": {},
   "outputs": [],
   "source": [
    "default_crs = 'EPSG:4326'\n",
    "\n",
    "polygon = shapely.wkt.loads(AOI)\n",
    "aoi_filename = f\"{time.time()}_aoi.geojson\"\n",
    "gpd.GeoDataFrame(gpd.GeoSeries([polygon]), columns=[\"geometry\"]).to_file(aoi_filename, driver=\"GeoJSON\")"
   ]
  },
  {
   "cell_type": "code",
   "execution_count": null,
   "metadata": {},
   "outputs": [],
   "source": [
    "BASE = os.getcwd()\n",
    "NDMI_PATH = os.path.join(BASE, f'data/rasters/{REQUEST_ID}_ndmi.tif')\n",
    "NDVI_PATH = os.path.join(BASE, f'data/rasters/{REQUEST_ID}_ndvi.tif')\n",
    "SENTINEL_TILES_PATH = os.path.join(BASE, \"sentinel2grid.geojson\")\n",
    "BANDS = {'B04', 'B08', 'B12', 'TCI'}\n",
    "CONSTRAINTS = {'NODATA_PIXEL_PERCENTAGE': 15.0, 'CLOUDY_PIXEL_PERCENTAGE': 10.0, }\n",
    "PRODUCT_TYPE = 'L2A'\n",
    "NAME = 'Moisture content'\n",
    "\n",
    "os.makedirs(OUTPUT_FOLDER, exist_ok=True)"
   ]
  },
  {
   "cell_type": "code",
   "execution_count": null,
   "metadata": {},
   "outputs": [],
   "source": [
    "tiles = {\n",
    "    'b04': [],\n",
    "    'b08': [],\n",
    "    'b12':[],\n",
    "    'tci': []\n",
    "}\n",
    "\n",
    "def load_all_tiles(aoi_filename, sentinel_tiles_path, constraints):\n",
    "    b04_tile = b08_tile = b12_tile = tci_tile = None\n",
    "    date_tile_info = get_tiles(aoi_filename, sentinel_tiles_path)\n",
    "    loadings = load_images(SENTINEL2_GOOGLE_API_KEY, date_tile_info.tileID.values, START_DATE, END_DATE, SATELLITE_CACHE_FOLDER, BANDS, constraints, PRODUCT_TYPE)\n",
    "    checked = check_nodata(loadings, PRODUCT_TYPE)\n",
    "    \n",
    "    all_tiles = []\n",
    "    \n",
    "    for i, tile in date_tile_info.iterrows():\n",
    "        if len(checked[tile.tileID]) < 1:\n",
    "            continue\n",
    "            \n",
    "        tile_folder = Path(sorted(checked[tile.tileID])[0])\n",
    "        b04_tile = [os.path.join(tile_folder, filename) for filename in os.listdir(\n",
    "            tile_folder) if 'B04_10m.jp2' in filename][0]\n",
    "        b08_tile = [os.path.join(tile_folder, filename) for filename in os.listdir(\n",
    "            tile_folder) if 'B08_10m.jp2' in filename][0]\n",
    "        b12_tile = [os.path.join(tile_folder, filename) for filename in os.listdir(\n",
    "            tile_folder) if 'B12_20m.jp2' in filename][0]\n",
    "        tci_tile = [os.path.join(tile_folder, filename) for filename in os.listdir(\n",
    "            tile_folder) if 'TCI_10m.jp2' in filename][0]\n",
    "        \n",
    "        all_tiles.append((b04_tile, b08_tile, b12_tile, tci_tile))\n",
    "            \n",
    "    return all_tiles\n",
    "\n",
    "while len(tiles['b04']) == 0:\n",
    "    if CONSTRAINTS['NODATA_PIXEL_PERCENTAGE'] >= 75.0:\n",
    "        metadata = {'START_DATE': START_DATE, 'END_DATE': END_DATE, 'REQUEST_ID': REQUEST_ID, 'NAME': NAME}\n",
    "        geojson_path = os.path.join(OUTPUT_FOLDER, f\"{START_DATE}_{END_DATE}_no_data.geojson\")\n",
    "        dump_no_data_geosjon(polygon, geojson_path, metadata)\n",
    "        raise ValueError(\"Images not loaded for given AOI. Change dates, constraints\")\n",
    "            \n",
    "    all_tiles = load_all_tiles(aoi_filename, SENTINEL_TILES_PATH, CONSTRAINTS)\n",
    "            \n",
    "    for single_tiles in all_tiles:\n",
    "        b04_tile, b08_tile, b12_tile, tci_tile = single_tiles\n",
    "        \n",
    "        if b04_tile is None:\n",
    "            CONSTRAINTS['CLOUDY_PIXEL_PERCENTAGE'] += 5.0\n",
    "            CONSTRAINTS['NODATA_PIXEL_PERCENTAGE'] += 5.0\n",
    "            continue\n",
    "        tiles['b04'].append(b04_tile)\n",
    "        tiles['b08'].append(b08_tile)\n",
    "        tiles['b12'].append(b12_tile)\n",
    "        tiles['tci'].append(tci_tile)\n",
    "\n"
   ]
  },
  {
   "cell_type": "code",
   "execution_count": null,
   "metadata": {},
   "outputs": [],
   "source": [
    "if len(tiles['b04']) > 1:\n",
    "    b04_tile = stitch_tiles(tiles['b04'], b04_tile.replace('.jp2', '_merged.tif'))\n",
    "    b08_tile = stitch_tiles(tiles['b08'], b08_tile.replace('.jp2', '_merged.tif'))\n",
    "    b12_tile = stitch_tiles(tiles['b12'], b12_tile.replace('.jp2', '_merged.tif'))\n",
    "    tci_tile = stitch_tiles(tiles['tci'], tci_tile.replace('.jp2', '_merged.tif'))"
   ]
  },
  {
   "cell_type": "code",
   "execution_count": null,
   "metadata": {},
   "outputs": [],
   "source": [
    "calculate_ndmi(b08_tile, b12_tile, out_path=NDMI_PATH, nodata=np.nan)\n",
    "calculate_ndvi(b04_tile, b08_tile, out_path=NDVI_PATH, nodata=np.nan)"
   ]
  },
  {
   "cell_type": "code",
   "execution_count": null,
   "metadata": {},
   "outputs": [],
   "source": [
    "aoi = gpd.read_file(aoi_filename)\n",
    "\n",
    "with rasterio.open(tci_tile) as src:\n",
    "    tci_image, tfs = riomask.mask(\n",
    "        src, aoi.to_crs(src.crs).geometry, all_touched=False, crop=True)\n",
    "    \n",
    "with rasterio.open(NDMI_PATH) as src:\n",
    "    ndmi, tfs = riomask.mask(\n",
    "        src, aoi.to_crs(src.crs).geometry, all_touched=False, crop=True)\n",
    "    meta = src.meta\n",
    "    meta['transform'] = tfs\n",
    "    meta['width'] = ndmi.shape[-1]\n",
    "    meta['height'] = ndmi.shape[-2]\n",
    "    \n",
    "with rasterio.open(NDVI_PATH) as src:\n",
    "    ndvi, _ = riomask.mask(\n",
    "        src, aoi.to_crs(src.crs).geometry, all_touched=False, crop=True)"
   ]
  },
  {
   "cell_type": "code",
   "execution_count": null,
   "metadata": {},
   "outputs": [],
   "source": [
    "# class_name -> [[(ndmi_range), (ndvi_range)], [(ndmi_range), (ndvi_range)], ... ]\n",
    "\n",
    "class_names = {\n",
    "    \n",
    "    \"no water stress\": [\n",
    "        [(-0.6, -0.4), (0.1, 0.2)],\n",
    "        [(-0.4, -0.2), (0.1, 0.3)],\n",
    "        [(-0.2, 0.0), (0.1, 0.3)],\n",
    "        [(0.0, 0.2), (0.1, 0.4)],\n",
    "        [(0.2, 0.4), (0.1, 0.4)],\n",
    "        [(0.4, 0.6), (0.7, 1.0)],\n",
    "        [(0.6, 0.8), (0.6, 1.0)],\n",
    "        [(0.8, 1.0), (0.5, 1.0)],\n",
    "        \n",
    "    ],\n",
    "    \n",
    "    \"low water stress\": [\n",
    "        [(-0.6, -0.4), (0.2, 0.3)],\n",
    "        [(-0.4, -0.2), (0.3, 0.4)],\n",
    "        [(-0.2, 0.0), (0.3, 0.5)],\n",
    "        [(0.0, 0.2), (0.4, 0.7)],\n",
    "        [(0.2, 0.4), (0.4, 0.5)],\n",
    "        [(0.4, 0.6), (0.4, 0.7)],\n",
    "        [(0.6, 0.8), (0.3, 0.6)],\n",
    "        [(0.8, 1.0), (0.1, 0.5)],\n",
    "    ],\n",
    "    \n",
    "    \"high water stress\" : [\n",
    "        [(-0.6, -0.4), (0.3, 0.6)],\n",
    "        [(-0.4, -0.2), (0.4, 0.6)],\n",
    "        [(-0.2, 0.0), (0.5, 0.7)],\n",
    "        [(0.0, 0.2), (0.7, 0.9)],\n",
    "        [(0.2, 0.4), (0.5, 0.9)],\n",
    "        [(0.4, 0.6), (0.1, 0.4)],\n",
    "        [(0.6, 0.8), (0.1, 0.3)],\n",
    "    ],\n",
    "    \n",
    "    \"drought\": [\n",
    "        [(-0.4, -0.2), (0.6, 1.0)],\n",
    "        [(-0.6, -0.4), (0.6, 1.0)],\n",
    "        [(-0.2, 0.0), (0.7, 1.0)],\n",
    "        [(0.0, 0.2), (0.9, 1.0)],\n",
    "        [(0.2, 0.4), (0.9, 1.0)]\n",
    "    ]\n",
    "}\n",
    "\n",
    "NUM_CLASSES = len(class_names)\n",
    "arr = np.array(range(0, NUM_CLASSES)) / NUM_CLASSES\n",
    "\n",
    "colors = [\n",
    "    (138, 206, 126),\n",
    "    (48, 145, 67),\n",
    "    (255, 218, 102),\n",
    "    (182, 10, 28),\n",
    "]\n",
    "\n",
    "labels = []\n",
    "\n",
    "mask = np.zeros((ndmi[0].shape[-2], ndmi[0].shape[-1], 3)).astype(np.uint8)\n",
    "for idx, (name, values) in enumerate(class_names.items()):\n",
    "    class_area = 0\n",
    "    for pix_vals in values:\n",
    "        \n",
    "        ndmi_pix, ndvi_pix = pix_vals\n",
    "        class_area += np.where(((ndmi[0] >= ndmi_pix[0])&(ndmi[0] <= ndmi_pix[1])) & ((ndvi[0] >= ndvi_pix[0])&(ndvi[0] <= ndvi_pix[1])), 1, 0).sum() / 10**4 \n",
    "        mask[((ndmi[0] >= ndmi_pix[0])&(ndmi[0] <= ndmi_pix[1])) & ((ndvi[0] >= ndvi_pix[0])&(ndvi[0] <= ndvi_pix[1]))] = colors[idx]\n",
    "\n",
    "    labels.append({\n",
    "        \"color\": \",\".join(list(map(lambda x: str(int(x)), colors[idx]))),\n",
    "        \"name\": name,\n",
    "        \"area\": round(class_area, 3)\n",
    "    })"
   ]
  },
  {
   "cell_type": "code",
   "execution_count": null,
   "metadata": {},
   "outputs": [],
   "source": [
    "labels = json.dumps(labels)\n",
    "mask = mask.astype(np.float32)\n",
    "labels"
   ]
  },
  {
   "cell_type": "code",
   "execution_count": null,
   "metadata": {},
   "outputs": [],
   "source": [
    "meta.update(\n",
    "    count=3,\n",
    "    nodata=0,\n",
    "    compress='lzw',\n",
    "    photometric='RGB'\n",
    ")\n",
    "\n",
    "result_name = f\"water_stress_{START_DATE}_{END_DATE}.tif\"\n",
    "colored_tif = os.path.join(OUTPUT_FOLDER, result_name)\n",
    "\n",
    "with rasterio.open(colored_tif, 'w', **meta) as dst:\n",
    "    dst.update_tags(start_date=START_DATE, \n",
    "                    end_date=END_DATE, \n",
    "                    request_id=REQUEST_ID,\n",
    "                    labels=labels,\n",
    "                    name=NAME)\n",
    "\n",
    "    for i in range(mask.shape[-1]):\n",
    "        dst.write(mask[:,:,i], indexes=i+1)"
   ]
  },
  {
   "cell_type": "code",
   "execution_count": null,
   "metadata": {},
   "outputs": [],
   "source": [
    "os.remove(aoi_filename)"
   ]
  },
  {
   "cell_type": "code",
   "execution_count": null,
   "metadata": {},
   "outputs": [],
   "source": [
    "json_classes = {i: x for i, x in enumerate(class_names.keys())}"
   ]
  },
  {
   "cell_type": "code",
   "execution_count": null,
   "metadata": {},
   "outputs": [],
   "source": [
    "if not os.path.exists('classes_labels.json'):\n",
    "    with open('classes_labels.json', 'w') as file:\n",
    "        json.dump(json_classes, file)"
   ]
  },
  {
   "cell_type": "code",
   "execution_count": null,
   "metadata": {
    "pycharm": {
     "name": "#%%\n"
    }
   },
   "outputs": [],
   "source": [
    "remove_aux_rasters = True\n",
    "\n",
    "if remove_aux_rasters:\n",
    "    \n",
    "    try:\n",
    "        os.remove(NDMI_PATH)\n",
    "    except FileNotFoundError:\n",
    "        print('No helping rasters found')\n",
    "        \n",
    "    try:\n",
    "        os.remove(NDVI_PATH)\n",
    "    except FileNotFoundError:\n",
    "        print('No helping rasters found')"
   ]
  }
 ],
 "metadata": {
  "kernelspec": {
   "display_name": "venv",
   "language": "python",
   "name": "python3"
  },
  "language_info": {
   "codemirror_mode": {
    "name": "ipython",
    "version": 3
   },
   "file_extension": ".py",
   "mimetype": "text/x-python",
   "name": "python",
   "nbconvert_exporter": "python",
   "pygments_lexer": "ipython3",
   "version": "3.10.6 (main, Nov 14 2022, 16:10:14) [GCC 11.3.0]"
  },
  "vscode": {
   "interpreter": {
    "hash": "fcebc31e3fd9bc6848e9637255bf73fc863f9eb2e5911648d8da9aafb0d40317"
   }
  }
 },
 "nbformat": 4,
 "nbformat_minor": 4
}
